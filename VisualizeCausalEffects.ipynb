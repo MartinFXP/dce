{
 "cells": [
  {
   "cell_type": "code",
   "execution_count": null,
   "metadata": {},
   "outputs": [],
   "source": [
    "import os\n",
    "\n",
    "import pandas as pd\n",
    "import networkx as nx\n",
    "\n",
    "import seaborn as sns\n",
    "import matplotlib.pyplot as plt"
   ]
  },
  {
   "cell_type": "code",
   "execution_count": null,
   "metadata": {},
   "outputs": [],
   "source": [
    "sns.set_context('talk')"
   ]
  },
  {
   "cell_type": "markdown",
   "metadata": {},
   "source": [
    "# Load data"
   ]
  },
  {
   "cell_type": "code",
   "execution_count": null,
   "metadata": {},
   "outputs": [],
   "source": [
    "df_graph = pd.read_csv('results/graph.edgelist.csv')\n",
    "df_graph.head()"
   ]
  },
  {
   "cell_type": "code",
   "execution_count": null,
   "metadata": {},
   "outputs": [],
   "source": [
    "graph = nx.from_pandas_edgelist(\n",
    "    df_graph,\n",
    "    source='source', target='sink', edge_attr=True,\n",
    "    create_using=nx.MultiDiGraph)"
   ]
  },
  {
   "cell_type": "code",
   "execution_count": null,
   "metadata": {},
   "outputs": [],
   "source": [
    "print(nx.info(graph))"
   ]
  },
  {
   "cell_type": "markdown",
   "metadata": {},
   "source": [
    "# Plot graph"
   ]
  },
  {
   "cell_type": "code",
   "execution_count": null,
   "metadata": {},
   "outputs": [],
   "source": [
    "@np.vectorize\n",
    "def symlog(x):\n",
    "    if x > 0:\n",
    "        return np.log(x)\n",
    "    elif x < 0:\n",
    "        return -np.log(abs(x))\n",
    "    else:\n",
    "        return 0"
   ]
  },
  {
   "cell_type": "code",
   "execution_count": null,
   "metadata": {},
   "outputs": [],
   "source": [
    "pos = nx.drawing.nx_agraph.graphviz_layout(graph, prog='neato', args='-Goverlap=false')"
   ]
  },
  {
   "cell_type": "code",
   "execution_count": null,
   "metadata": {},
   "outputs": [],
   "source": [
    "plt.figure(figsize=(16,12))\n",
    "plt.gcf().set_facecolor('w')\n",
    "ax = plt.gca()\n",
    "ax.set_axis_off()\n",
    "\n",
    "nx.draw_networkx_nodes(graph, pos, ax=ax)\n",
    "nx.draw_networkx_labels(\n",
    "    graph, pos, ax=ax,\n",
    "    labels={n: n for n in graph.nodes()})\n",
    "\n",
    "nx.draw_networkx_edges(\n",
    "    graph, pos, ax=ax,\n",
    "    edge_color=symlog([e[-1]['causal.effect'] for e in graph.edges(data=True)]),\n",
    "    edge_cmap=plt.get_cmap('bwr'))\n",
    "nx.draw_networkx_edge_labels(\n",
    "    graph, pos, ax=ax, \n",
    "    edge_labels={e[:2]: '{:.2}'.format(e[-1]['causal.effect'])\n",
    "                 for e in graph.edges(data=True)})\n",
    "\n",
    "1"
   ]
  }
 ],
 "metadata": {
  "kernelspec": {
   "display_name": "Python 3",
   "language": "python",
   "name": "python3"
  },
  "language_info": {
   "codemirror_mode": {
    "name": "ipython",
    "version": 3
   },
   "file_extension": ".py",
   "mimetype": "text/x-python",
   "name": "python",
   "nbconvert_exporter": "python",
   "pygments_lexer": "ipython3",
   "version": "3.7.3"
  }
 },
 "nbformat": 4,
 "nbformat_minor": 2
}
